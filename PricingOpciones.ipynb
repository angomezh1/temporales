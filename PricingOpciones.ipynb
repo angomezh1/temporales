from scipy.stats import norm
import numpy as np

def bsformula(callput, S0, K, r, T, sigma, q=0):

    #Changing possible integers to float
    S0 = float(S0)
    K = float(K)
    r = float(r)
    T = float(T)
    sigma = float(sigma)


    d1 = (np.log(S0 / K) + (r  + sigma**2 / 2) * T) / (sigma * T**0.5)
    d2 = d1 - sigma * T**0.5
    nd1_prime = 1/(((2*np.pi)**0.5)*(np.exp((d1**2)/2)))

    if callput == 'call':
        nd1 = norm.cdf(d1, )
        nd2 = norm.cdf(d2, )        
        optionValue = S0 * nd1 - K * np.exp(-r * T) * nd2 
        delta = nd1        

    elif callput == 'put':
        nd1 = norm.cdf(-d1, )
        nd2 = norm.cdf(-d2, )        
        optionValue = -S0 *  nd1 + K * np.exp(-r * T) * nd2
        delta = -nd1        

    vega =  S0*(T**0.5)*nd1_prime 
    return optionValue, delta, vega

################################################################################################################################################################


def bsimpvol(callput,S0,K,r,T,price,q=0.0,pricetolerance=0.01,method='bisect'):

    #Changing possible integers to float
    S0 = float(S0)
    K = float(K)
    r = float(r)
    T = float(T)
    price = float(price)

    # calculate the intrinsic value to see if the price for In the Money options is at least this value

    forward = S0*np.exp(r*T)
    if callput == 'call'and K < forward:
        intrinsic_value = (forward  - K)*np.exp(-r*T)
    elif callput == 'put'and K > forward:
        intrinsic_value = (K - forward)*np.exp(-r*T)
    else:
        intrinsic_value = 0

    if price < intrinsic_value:
        print "The option's price should be at least its intrinsic value. We can't calculate any implied vol"
        
        
    else:
        
        if method=='bisect':
            import Bisect
            def bsformula_reduced(sigma):
                    
                d1 = (np.log(S0 / K) + (r  + sigma**2 / 2) * T) / (sigma * T**0.5)
                d2 = d1 - sigma * T**0.5            

                if callput == 'call':
                    nd1 = norm.cdf(d1, )
                    nd2 = norm.cdf(d2, )        
                    optionValue = S0 * nd1 - K * np.exp(-r * T) * nd2                

                elif callput == 'put':
                    nd1 = norm.cdf(-d1, )
                    nd2 = norm.cdf(-d2, )
                    optionValue = -S0 *  nd1 + K * np.exp(-r * T) * nd2          
                    
                return optionValue
                
            return Bisect.bisect(price,bsformula_reduced,0.1,[0.001,5],[pricetolerance,pricetolerance],maxiter=200)
        
        elif method == 'newton':
            import NewtonRaphson

            def bsformula_reduced(sigma):                              
                    
                d1 = (np.log(S0 / K) + (r  + sigma**2 / 2) * T) / (sigma * T**0.5)
                d2 = d1 - sigma * T**0.5

                if callput == 'call':
                    nd1 = norm.cdf(d1, )
                    nd2 = norm.cdf(d2, )        
                    optionValue = S0 * nd1 - K * np.exp(-r * T) * nd2                

                elif callput == 'put':
                    nd1 = norm.cdf(-d1, )
                    nd2 = norm.cdf(-d2, )
                    optionValue = -S0 *  nd1 + K * np.exp(-r * T) * nd2
                    
                return optionValue

            def vega_reduced(sigma):                              
                    
                d1 = (np.log(S0 / K) + (r  + sigma**2 / 2) * T) / (sigma * T**0.5)
                d2 = d1 - sigma * T**0.5
                nd1_prime = 1/(((2*np.pi)**0.5)*(np.exp((d1**2)/2)))
                vega = S0*(T**0.5)*nd1_prime
                    
                return vega
            
            return NewtonRaphson.newtonraphson(price,bsformula_reduced, vega_reduced,0.2,pricetolerance,maxiter=200)

##############################################################################################################################################################################

def bsparabolicprob( S0, x, r, tenor,sigma0, sigma1, sigma2, q=0., t=0.):

    RN_prob = np.array([0.0])
    y = np.asarray(x)

    if y.size == 1:

        #Changing possible integers to float
        S0 = float(S0)
        x = float(x)
        r = float(r)
        tenor = float(tenor)
        sigma0 = float(sigma0)
        sigma1 = float(sigma1)
        sigma2 = float(sigma2)
        

        #Skew function
        sigma = sigma0 + sigma1*np.log(y/S0)+sigma2*(np.log(y/S0))**2

        #First derivative of the skew function with respect to strike
        sigma_prime = (sigma1/y) + (2*sigma2/y)*np.log(y/S0)

        #Second derivative of the skew function with respect to strike
        sigma_primeprime = (1/y**2)*(-sigma1 +2*sigma2- 2*sigma2*np.log(y/S0))    

        T = tenor - t
        d1 = (np.log(S0 / y) + (r  + sigma**2 / 2) * T) / (sigma * T**0.5)
        d2 = d1 - sigma * T**0.5

        
        #we need to calculate different derivatives to express the second total derivative of the price with respect to the strike. 

        #Vega
        vega =  S0*(T**0.5)*norm.pdf(d1)

        #Partial second derivative of the price with respect to the vol
        D2CDVOL2 = (vega*d1*d2)/sigma

        #Partial second derivative of the price with respect to the strike
        D2CDK2 = (np.exp(-r*tenor)*norm.pdf(d2))/(y*sigma*tenor**0.5)

        #Partial cross second derivative of the price with respect to the strike and the vol
        D2CDKDVOL = (np.exp(-r*tenor)*norm.pdf(d2)*d1)/sigma

        #Total second derivative of the price with respect to strike
        TOTAL = D2CDVOL2*(sigma_prime**2)+2*D2CDKDVOL*sigma_prime+vega*sigma_primeprime+D2CDK2
        
        #Risk neutral prob measure           
        RN_prob = np.exp(r*tenor)*TOTAL
    
        return RN_prob

    else:

        #Changing possible integers to float
        S0 = float(S0)
        x = x.astype(float)
        r = float(r)
        tenor = float(tenor)
        sigma0 = float(sigma0)
        sigma1 = float(sigma1)
        sigma2 = float(sigma2)
           
        for i in xrange(0,y.size):
        
            #Skew function
            sigma = sigma0 + sigma1*np.log(x[i]/S0)+sigma2*(np.log(x[i]/S0))**2

            #First derivative of the skew function with respect to strike
            sigma_prime = (sigma1/x[i]) + (2*sigma2/x[i])*np.log(x[i]/S0)

            #Second derivative of the skew function with respect to strike
            sigma_primeprime = (1/x[i]**2)*(-sigma1 +2*sigma2- 2*sigma2*np.log(x[i]/S0))    

            T = tenor - t
            d1 = (np.log(S0 / x[i]) + (r  + sigma**2 / 2) * T) / (sigma * T**0.5)
            d2 = d1 - sigma * T**0.5

            
            #we need to calculate different derivatives to express the second total derivative of the price with respect to the strike. 

            #Vega
            vega =  S0*(T**0.5)*norm.pdf(d1)

            #Partial second derivative of the price with respect to the vol
            D2CDVOL2 = (vega*d1*d2)/sigma

            #Partial second derivative of the price with respect to the strike
            D2CDK2 = (np.exp(-r*tenor)*norm.pdf(d2))/(x[i]*sigma*tenor**0.5)

            #Partial cross second derivative of the price with respect to the strike and the vol
            D2CDKDVOL = (np.exp(-r*tenor)*norm.pdf(d2)*d1)/sigma

            #Total second derivative of the price with respect to strike
            TOTAL = D2CDVOL2*(sigma_prime**2)+2*D2CDKDVOL*sigma_prime+vega*sigma_primeprime+D2CDK2
            
            #Risk neutral prob measure   
            RN_prob.resize(y.size)
            RN_prob[i] = np.exp(r*tenor)*TOTAL
        
        return RN_prob
